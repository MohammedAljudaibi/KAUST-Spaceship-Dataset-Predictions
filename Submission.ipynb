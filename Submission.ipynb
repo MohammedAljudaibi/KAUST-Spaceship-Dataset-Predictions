{
 "cells": [
  {
   "cell_type": "code",
   "execution_count": 1,
   "id": "160b4030",
   "metadata": {
    "_cell_guid": "b1076dfc-b9ad-4769-8c92-a6c4dae69d19",
    "_uuid": "8f2839f25d086af736a60e9eeb907d3b93b6e0e5",
    "execution": {
     "iopub.execute_input": "2022-12-01T10:47:37.044814Z",
     "iopub.status.busy": "2022-12-01T10:47:37.044329Z",
     "iopub.status.idle": "2022-12-01T10:47:38.248127Z",
     "shell.execute_reply": "2022-12-01T10:47:38.247213Z"
    },
    "papermill": {
     "duration": 1.212868,
     "end_time": "2022-12-01T10:47:38.250872",
     "exception": false,
     "start_time": "2022-12-01T10:47:37.038004",
     "status": "completed"
    },
    "tags": []
   },
   "outputs": [],
   "source": [
    "import pathlib\n",
    "\n",
    "import numpy as np # linear algebra\n",
    "import pandas as pd # data processing, CSV file I/O (e.g. pd.read_csv)\n",
    "from sklearn import ensemble ,compose, impute, metrics, linear_model, pipeline, preprocessing"
   ]
  },
  {
   "cell_type": "code",
   "execution_count": 2,
   "id": "0c19ef0d",
   "metadata": {
    "execution": {
     "iopub.execute_input": "2022-12-01T10:47:38.261198Z",
     "iopub.status.busy": "2022-12-01T10:47:38.260355Z",
     "iopub.status.idle": "2022-12-01T10:47:38.264586Z",
     "shell.execute_reply": "2022-12-01T10:47:38.263952Z"
    },
    "papermill": {
     "duration": 0.011016,
     "end_time": "2022-12-01T10:47:38.266223",
     "exception": false,
     "start_time": "2022-12-01T10:47:38.255207",
     "status": "completed"
    },
    "tags": []
   },
   "outputs": [],
   "source": [
    "INPUT_DIR = pathlib.Path(\"/kaggle/input/kaust-academy-ai-week-november-2022\")\n",
    "WORKING_DIR = pathlib.Path(\"/kaggle/working\")"
   ]
  },
  {
   "cell_type": "code",
   "execution_count": 3,
   "id": "e1833e90",
   "metadata": {
    "execution": {
     "iopub.execute_input": "2022-12-01T10:47:38.276496Z",
     "iopub.status.busy": "2022-12-01T10:47:38.275349Z",
     "iopub.status.idle": "2022-12-01T10:47:38.553931Z",
     "shell.execute_reply": "2022-12-01T10:47:38.552721Z"
    },
    "papermill": {
     "duration": 0.285892,
     "end_time": "2022-12-01T10:47:38.556208",
     "exception": false,
     "start_time": "2022-12-01T10:47:38.270316",
     "status": "completed"
    },
    "tags": []
   },
   "outputs": [
    {
     "name": "stdout",
     "output_type": "stream",
     "text": [
      "total 1.2M\r\n",
      "-rw-r--r-- 1 nobody nogroup  59K Nov 27 05:24 sample_submission.csv\r\n",
      "-rw-r--r-- 1 nobody nogroup 364K Nov 27 05:24 test.csv\r\n",
      "-rw-r--r-- 1 nobody nogroup 787K Nov 27 05:24 train.csv\r\n"
     ]
    }
   ],
   "source": [
    "!ls -lh $INPUT_DIR"
   ]
  },
  {
   "cell_type": "code",
   "execution_count": 4,
   "id": "6c289bc8",
   "metadata": {
    "execution": {
     "iopub.execute_input": "2022-12-01T10:47:38.567720Z",
     "iopub.status.busy": "2022-12-01T10:47:38.567044Z",
     "iopub.status.idle": "2022-12-01T10:47:38.638510Z",
     "shell.execute_reply": "2022-12-01T10:47:38.637310Z"
    },
    "papermill": {
     "duration": 0.080233,
     "end_time": "2022-12-01T10:47:38.640702",
     "exception": false,
     "start_time": "2022-12-01T10:47:38.560469",
     "status": "completed"
    },
    "tags": []
   },
   "outputs": [
    {
     "data": {
      "text/html": [
       "<div>\n",
       "<style scoped>\n",
       "    .dataframe tbody tr th:only-of-type {\n",
       "        vertical-align: middle;\n",
       "    }\n",
       "\n",
       "    .dataframe tbody tr th {\n",
       "        vertical-align: top;\n",
       "    }\n",
       "\n",
       "    .dataframe thead th {\n",
       "        text-align: right;\n",
       "    }\n",
       "</style>\n",
       "<table border=\"1\" class=\"dataframe\">\n",
       "  <thead>\n",
       "    <tr style=\"text-align: right;\">\n",
       "      <th></th>\n",
       "      <th>HomePlanet</th>\n",
       "      <th>CryoSleep</th>\n",
       "      <th>Cabin</th>\n",
       "      <th>Destination</th>\n",
       "      <th>Age</th>\n",
       "      <th>VIP</th>\n",
       "      <th>RoomService</th>\n",
       "      <th>FoodCourt</th>\n",
       "      <th>ShoppingMall</th>\n",
       "      <th>Spa</th>\n",
       "      <th>VRDeck</th>\n",
       "      <th>Name</th>\n",
       "      <th>Transported</th>\n",
       "    </tr>\n",
       "    <tr>\n",
       "      <th>PassengerId</th>\n",
       "      <th></th>\n",
       "      <th></th>\n",
       "      <th></th>\n",
       "      <th></th>\n",
       "      <th></th>\n",
       "      <th></th>\n",
       "      <th></th>\n",
       "      <th></th>\n",
       "      <th></th>\n",
       "      <th></th>\n",
       "      <th></th>\n",
       "      <th></th>\n",
       "      <th></th>\n",
       "    </tr>\n",
       "  </thead>\n",
       "  <tbody>\n",
       "  </tbody>\n",
       "</table>\n",
       "</div>"
      ],
      "text/plain": [
       "Empty DataFrame\n",
       "Columns: [HomePlanet, CryoSleep, Cabin, Destination, Age, VIP, RoomService, FoodCourt, ShoppingMall, Spa, VRDeck, Name, Transported]\n",
       "Index: []"
      ]
     },
     "execution_count": 4,
     "metadata": {},
     "output_type": "execute_result"
    }
   ],
   "source": [
    "# Q1: load the training data\n",
    "train_df = pd.read_csv(INPUT_DIR / \"train.csv\", index_col=0)\n",
    "train_df.head(0)"
   ]
  },
  {
   "cell_type": "code",
   "execution_count": 5,
   "id": "134adb82",
   "metadata": {
    "execution": {
     "iopub.execute_input": "2022-12-01T10:47:38.651064Z",
     "iopub.status.busy": "2022-12-01T10:47:38.650648Z",
     "iopub.status.idle": "2022-12-01T10:47:38.662009Z",
     "shell.execute_reply": "2022-12-01T10:47:38.660385Z"
    },
    "papermill": {
     "duration": 0.019153,
     "end_time": "2022-12-01T10:47:38.664398",
     "exception": false,
     "start_time": "2022-12-01T10:47:38.645245",
     "status": "completed"
    },
    "tags": []
   },
   "outputs": [
    {
     "data": {
      "text/plain": [
       "1115"
      ]
     },
     "execution_count": 5,
     "metadata": {},
     "output_type": "execute_result"
    }
   ],
   "source": [
    "train_df[\"ShoppingMall\"].nunique()"
   ]
  },
  {
   "cell_type": "code",
   "execution_count": 6,
   "id": "7414b260",
   "metadata": {
    "execution": {
     "iopub.execute_input": "2022-12-01T10:47:38.674298Z",
     "iopub.status.busy": "2022-12-01T10:47:38.673886Z",
     "iopub.status.idle": "2022-12-01T10:47:38.681573Z",
     "shell.execute_reply": "2022-12-01T10:47:38.680935Z"
    },
    "papermill": {
     "duration": 0.014743,
     "end_time": "2022-12-01T10:47:38.683313",
     "exception": false,
     "start_time": "2022-12-01T10:47:38.668570",
     "status": "completed"
    },
    "tags": []
   },
   "outputs": [],
   "source": [
    "train_features = train_df.drop(\"Transported\", axis=1)\n",
    "train_target = train_df[\"Transported\"]"
   ]
  },
  {
   "cell_type": "code",
   "execution_count": 7,
   "id": "609dc574",
   "metadata": {
    "execution": {
     "iopub.execute_input": "2022-12-01T10:47:38.692554Z",
     "iopub.status.busy": "2022-12-01T10:47:38.692243Z",
     "iopub.status.idle": "2022-12-01T10:47:38.700560Z",
     "shell.execute_reply": "2022-12-01T10:47:38.699137Z"
    },
    "papermill": {
     "duration": 0.015001,
     "end_time": "2022-12-01T10:47:38.702394",
     "exception": false,
     "start_time": "2022-12-01T10:47:38.687393",
     "status": "completed"
    },
    "tags": []
   },
   "outputs": [],
   "source": [
    "boolean_preprocessing = pipeline.make_pipeline(\n",
    "    impute.SimpleImputer(strategy=\"most_frequent\"),\n",
    ")\n",
    "\n",
    "categorical_preprocessing = pipeline.make_pipeline(\n",
    "    impute.SimpleImputer(strategy=\"most_frequent\"),\n",
    "    preprocessing.OneHotEncoder(),\n",
    ")\n",
    "\n",
    "numeric_preprocessing = pipeline.make_pipeline(\n",
    "    impute.SimpleImputer(strategy=\"mean\")\n",
    ")\n",
    "\n",
    "data_preprocessing = compose.make_column_transformer(\n",
    "    (boolean_preprocessing, [\"CryoSleep\", \"VIP\"]),\n",
    "    (categorical_preprocessing, [\"HomePlanet\", \"Destination\"]),\n",
    "    (numeric_preprocessing, compose.make_column_selector(dtype_include=np.float64)),\n",
    "    remainder = \"drop\",\n",
    ")\n"
   ]
  },
  {
   "cell_type": "code",
   "execution_count": 8,
   "id": "9e4783b1",
   "metadata": {
    "execution": {
     "iopub.execute_input": "2022-12-01T10:47:38.712056Z",
     "iopub.status.busy": "2022-12-01T10:47:38.711507Z",
     "iopub.status.idle": "2022-12-01T10:47:38.769812Z",
     "shell.execute_reply": "2022-12-01T10:47:38.768986Z"
    },
    "papermill": {
     "duration": 0.065773,
     "end_time": "2022-12-01T10:47:38.772221",
     "exception": false,
     "start_time": "2022-12-01T10:47:38.706448",
     "status": "completed"
    },
    "tags": []
   },
   "outputs": [],
   "source": [
    "ensemble.GradientBoostingClassifier?"
   ]
  },
  {
   "cell_type": "code",
   "execution_count": 9,
   "id": "0f9984be",
   "metadata": {
    "execution": {
     "iopub.execute_input": "2022-12-01T10:47:38.782033Z",
     "iopub.status.busy": "2022-12-01T10:47:38.781715Z",
     "iopub.status.idle": "2022-12-01T10:47:40.324111Z",
     "shell.execute_reply": "2022-12-01T10:47:40.322838Z"
    },
    "papermill": {
     "duration": 1.550735,
     "end_time": "2022-12-01T10:47:40.327280",
     "exception": false,
     "start_time": "2022-12-01T10:47:38.776545",
     "status": "completed"
    },
    "tags": []
   },
   "outputs": [],
   "source": [
    "_seed = 42\n",
    "_hyperparameters = {\n",
    "    \"learning_rate\": 0.08,\n",
    "    \"n_estimators\": 180,\n",
    "    \"subsample\": 0.8,\n",
    "    \"min_weight_fraction_leaf\": 0.008,\n",
    "    \"tol\": 0.00008,\n",
    "    \"min_samples_split\": 8,\n",
    "    #\"max_features\": \"log2\"\n",
    "}\n",
    "\n",
    "estimator = ensemble.GradientBoostingClassifier(**_hyperparameters)\n",
    "\n",
    "ml_pipeline = pipeline.make_pipeline(\n",
    "    data_preprocessing,\n",
    "    estimator\n",
    ")\n",
    "_ = ml_pipeline.fit(train_features, train_target)"
   ]
  },
  {
   "cell_type": "code",
   "execution_count": 10,
   "id": "9a5359b4",
   "metadata": {
    "execution": {
     "iopub.execute_input": "2022-12-01T10:47:40.337230Z",
     "iopub.status.busy": "2022-12-01T10:47:40.336851Z",
     "iopub.status.idle": "2022-12-01T10:47:40.361748Z",
     "shell.execute_reply": "2022-12-01T10:47:40.360722Z"
    },
    "papermill": {
     "duration": 0.032294,
     "end_time": "2022-12-01T10:47:40.364038",
     "exception": false,
     "start_time": "2022-12-01T10:47:40.331744",
     "status": "completed"
    },
    "tags": []
   },
   "outputs": [],
   "source": [
    "# Q3: load the testing features\n",
    "test_features = pd.read_csv(INPUT_DIR / \"test.csv\", index_col=0)"
   ]
  },
  {
   "cell_type": "code",
   "execution_count": 11,
   "id": "5578ae7c",
   "metadata": {
    "execution": {
     "iopub.execute_input": "2022-12-01T10:47:40.373772Z",
     "iopub.status.busy": "2022-12-01T10:47:40.373460Z",
     "iopub.status.idle": "2022-12-01T10:47:40.401209Z",
     "shell.execute_reply": "2022-12-01T10:47:40.400458Z"
    },
    "papermill": {
     "duration": 0.034697,
     "end_time": "2022-12-01T10:47:40.403200",
     "exception": false,
     "start_time": "2022-12-01T10:47:40.368503",
     "status": "completed"
    },
    "tags": []
   },
   "outputs": [],
   "source": [
    "predictions = ml_pipeline.predict(test_features)"
   ]
  },
  {
   "cell_type": "code",
   "execution_count": 12,
   "id": "0b385669",
   "metadata": {
    "execution": {
     "iopub.execute_input": "2022-12-01T10:47:40.412762Z",
     "iopub.status.busy": "2022-12-01T10:47:40.412235Z",
     "iopub.status.idle": "2022-12-01T10:47:40.424149Z",
     "shell.execute_reply": "2022-12-01T10:47:40.423376Z"
    },
    "papermill": {
     "duration": 0.018952,
     "end_time": "2022-12-01T10:47:40.426362",
     "exception": false,
     "start_time": "2022-12-01T10:47:40.407410",
     "status": "completed"
    },
    "tags": []
   },
   "outputs": [],
   "source": [
    "# Q4: load the sample submission file!\n",
    "sample_submission_df = pd.read_csv(INPUT_DIR / \"sample_submission.csv\", index_col=0)"
   ]
  },
  {
   "cell_type": "code",
   "execution_count": 13,
   "id": "661e8e1c",
   "metadata": {
    "execution": {
     "iopub.execute_input": "2022-12-01T10:47:40.436654Z",
     "iopub.status.busy": "2022-12-01T10:47:40.436139Z",
     "iopub.status.idle": "2022-12-01T10:47:40.447051Z",
     "shell.execute_reply": "2022-12-01T10:47:40.446113Z"
    },
    "papermill": {
     "duration": 0.01846,
     "end_time": "2022-12-01T10:47:40.449305",
     "exception": false,
     "start_time": "2022-12-01T10:47:40.430845",
     "status": "completed"
    },
    "tags": []
   },
   "outputs": [],
   "source": [
    "_ = (pd.DataFrame({\"Transported\": predictions}, index=sample_submission_df.index)\n",
    "       .to_csv(WORKING_DIR / \"submission.csv\"))  "
   ]
  },
  {
   "cell_type": "code",
   "execution_count": 14,
   "id": "7edc6293",
   "metadata": {
    "execution": {
     "iopub.execute_input": "2022-12-01T10:47:40.458734Z",
     "iopub.status.busy": "2022-12-01T10:47:40.458430Z",
     "iopub.status.idle": "2022-12-01T10:47:40.733498Z",
     "shell.execute_reply": "2022-12-01T10:47:40.732364Z"
    },
    "papermill": {
     "duration": 0.28244,
     "end_time": "2022-12-01T10:47:40.736024",
     "exception": false,
     "start_time": "2022-12-01T10:47:40.453584",
     "status": "completed"
    },
    "tags": []
   },
   "outputs": [
    {
     "name": "stdout",
     "output_type": "stream",
     "text": [
      "PassengerId,Transported\r\n",
      "0013_01,True\r\n",
      "0018_01,False\r\n",
      "0019_01,True\r\n",
      "0021_01,True\r\n",
      "0023_01,True\r\n",
      "0027_01,True\r\n",
      "0029_01,True\r\n",
      "0032_01,True\r\n",
      "0032_02,True\r\n"
     ]
    }
   ],
   "source": [
    "!cat $WORKING_DIR/submission.csv | head"
   ]
  },
  {
   "cell_type": "code",
   "execution_count": 15,
   "id": "6b4b48fd",
   "metadata": {
    "execution": {
     "iopub.execute_input": "2022-12-01T10:47:40.747061Z",
     "iopub.status.busy": "2022-12-01T10:47:40.746717Z",
     "iopub.status.idle": "2022-12-01T10:47:40.808778Z",
     "shell.execute_reply": "2022-12-01T10:47:40.807622Z"
    },
    "papermill": {
     "duration": 0.070422,
     "end_time": "2022-12-01T10:47:40.810790",
     "exception": false,
     "start_time": "2022-12-01T10:47:40.740368",
     "status": "completed"
    },
    "tags": []
   },
   "outputs": [
    {
     "name": "stdout",
     "output_type": "stream",
     "text": [
      "              precision    recall  f1-score   support\n",
      "\n",
      "       False       0.77      0.83      0.80      4022\n",
      "        True       0.84      0.79      0.82      4671\n",
      "\n",
      "    accuracy                           0.81      8693\n",
      "   macro avg       0.81      0.81      0.81      8693\n",
      "weighted avg       0.81      0.81      0.81      8693\n",
      "\n"
     ]
    }
   ],
   "source": [
    "_train_predictions = ml_pipeline.predict(train_features)\n",
    "_report = metrics.classification_report(\n",
    "    _train_predictions,\n",
    "    train_target\n",
    ")\n",
    "print(_report)"
   ]
  },
  {
   "cell_type": "code",
   "execution_count": null,
   "id": "63d96191",
   "metadata": {
    "papermill": {
     "duration": 0.003984,
     "end_time": "2022-12-01T10:47:40.819132",
     "exception": false,
     "start_time": "2022-12-01T10:47:40.815148",
     "status": "completed"
    },
    "tags": []
   },
   "outputs": [],
   "source": []
  }
 ],
 "metadata": {
  "kernelspec": {
   "display_name": "Python 3",
   "language": "python",
   "name": "python3"
  },
  "language_info": {
   "codemirror_mode": {
    "name": "ipython",
    "version": 3
   },
   "file_extension": ".py",
   "mimetype": "text/x-python",
   "name": "python",
   "nbconvert_exporter": "python",
   "pygments_lexer": "ipython3",
   "version": "3.7.12"
  },
  "papermill": {
   "default_parameters": {},
   "duration": 12.025954,
   "end_time": "2022-12-01T10:47:41.544674",
   "environment_variables": {},
   "exception": null,
   "input_path": "__notebook__.ipynb",
   "output_path": "__notebook__.ipynb",
   "parameters": {},
   "start_time": "2022-12-01T10:47:29.518720",
   "version": "2.3.4"
  }
 },
 "nbformat": 4,
 "nbformat_minor": 5
}
